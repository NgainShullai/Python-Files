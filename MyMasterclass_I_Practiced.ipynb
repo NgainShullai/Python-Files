{
 "cells": [
  {
   "cell_type": "code",
   "execution_count": 1,
   "id": "7055fe95-6fac-4fb4-9e9a-a52c94b8b672",
   "metadata": {},
   "outputs": [
    {
     "name": "stdout",
     "output_type": "stream",
     "text": [
      "hello World!\n"
     ]
    }
   ],
   "source": [
    "print (\"hello World!\")"
   ]
  },
  {
   "cell_type": "code",
   "execution_count": null,
   "id": "2dc20e9e-5a55-41ad-bf55-230da862ac3f",
   "metadata": {},
   "outputs": [],
   "source": [
    "#     1. Write a Python program that prompts the user to enter a value and determines its data type. Print a message indicating \n",
    "#        the data type of the entered value."
   ]
  },
  {
   "cell_type": "code",
   "execution_count": 3,
   "id": "0eae2cff-9cc9-4c39-bf43-cd768ed6f0a2",
   "metadata": {},
   "outputs": [
    {
     "name": "stdin",
     "output_type": "stream",
     "text": [
      "Enter a number:  27\n"
     ]
    }
   ],
   "source": [
    "# Prompt the user to enter a value\n",
    "value = input(\"Enter a number: \")"
   ]
  },
  {
   "cell_type": "code",
   "execution_count": 5,
   "id": "eba448f8-0526-4738-8042-2f5a06572645",
   "metadata": {},
   "outputs": [],
   "source": [
    "# Determine the data type of the value\n",
    "data_type = type(value)"
   ]
  },
  {
   "cell_type": "code",
   "execution_count": 7,
   "id": "9dd59725-683f-4323-a142-aac8396386b6",
   "metadata": {},
   "outputs": [
    {
     "name": "stdout",
     "output_type": "stream",
     "text": [
      "The entered value is of type: <class 'str'>\n"
     ]
    }
   ],
   "source": [
    "print(\"The entered value is of type:\", data_type)"
   ]
  },
  {
   "cell_type": "code",
   "execution_count": 1,
   "id": "c555536b-9b40-47fe-bb9e-808bc17898af",
   "metadata": {},
   "outputs": [
    {
     "name": "stdin",
     "output_type": "stream",
     "text": [
      "Enter a string:  golden\n"
     ]
    }
   ],
   "source": [
    "# Prompt the user to enter a string\n",
    "string = input(\"Enter a string: \")"
   ]
  },
  {
   "cell_type": "code",
   "execution_count": 11,
   "id": "55f27ddd-ce98-4533-a73b-71623ba94bec",
   "metadata": {},
   "outputs": [
    {
     "name": "stdout",
     "output_type": "stream",
     "text": [
      "Length of the string: 6\n"
     ]
    }
   ],
   "source": [
    "# Print the length of the string\n",
    "length = len(string)\n",
    "print(\"Length of the string:\", length)"
   ]
  },
  {
   "cell_type": "code",
   "execution_count": 13,
   "id": "e6276a13-fc50-45a0-9ccd-1d0566a2452c",
   "metadata": {},
   "outputs": [
    {
     "name": "stdout",
     "output_type": "stream",
     "text": [
      "Uppercase string: GOLDEN\n"
     ]
    }
   ],
   "source": [
    "# Convert the string to uppercase and print the result\n",
    "uppercase = string.upper()\n",
    "print(\"Uppercase string:\", uppercase)"
   ]
  },
  {
   "cell_type": "code",
   "execution_count": 15,
   "id": "9ce91e93-3665-4a90-86b0-9c481e8295d2",
   "metadata": {},
   "outputs": [
    {
     "name": "stdout",
     "output_type": "stream",
     "text": [
      "Contains only alphabetic characters: True\n"
     ]
    }
   ],
   "source": [
    "# Check if the string contains only alphabetic characters and print the result\n",
    "is_alphabetic = string.isalpha()\n",
    "print(\"Contains only alphabetic characters:\", is_alphabetic)"
   ]
  },
  {
   "cell_type": "code",
   "execution_count": 17,
   "id": "ae62ea21-813e-4ea7-9d21-2642daccb87d",
   "metadata": {},
   "outputs": [
    {
     "name": "stdin",
     "output_type": "stream",
     "text": [
      "Enter the first number:  97.5\n",
      "Enter the second number:  65.7\n"
     ]
    }
   ],
   "source": [
    "# Prompt the user to enter two numbers\n",
    "num1 = float(input(\"Enter the first number: \"))\n",
    "num2 = float(input(\"Enter the second number: \"))"
   ]
  },
  {
   "cell_type": "code",
   "execution_count": 19,
   "id": "245acb12-f37e-4ec7-9c3a-4a203a4e0436",
   "metadata": {},
   "outputs": [],
   "source": [
    "sum_result = num1 + num2"
   ]
  },
  {
   "cell_type": "code",
   "execution_count": 21,
   "id": "23330629-1774-4189-ae7c-4f7be7ce0cfa",
   "metadata": {},
   "outputs": [
    {
     "name": "stdout",
     "output_type": "stream",
     "text": [
      "The sum of 97.5 and 65.7 is: 163.2\n"
     ]
    }
   ],
   "source": [
    "print(\"The sum of\", num1, \"and\", num2, \"is:\", sum_result)"
   ]
  },
  {
   "cell_type": "code",
   "execution_count": 23,
   "id": "b52dd3b1-4a04-4c33-8e1c-62496c385177",
   "metadata": {},
   "outputs": [
    {
     "name": "stdout",
     "output_type": "stream",
     "text": [
      "sum is 163.2\n"
     ]
    }
   ],
   "source": [
    "print(\"sum\", \"is\", sum_result)"
   ]
  },
  {
   "cell_type": "code",
   "execution_count": 25,
   "id": "59e934c1-5af3-44dc-bac2-dfac0273316a",
   "metadata": {},
   "outputs": [],
   "source": [
    "diff_result = num1 - num2"
   ]
  },
  {
   "cell_type": "code",
   "execution_count": 27,
   "id": "a0fff504-ef40-48a6-ac5d-15023b63c09a",
   "metadata": {},
   "outputs": [
    {
     "name": "stdout",
     "output_type": "stream",
     "text": [
      "The difference of 97.5 and 65.7 is: 31.799999999999997\n"
     ]
    }
   ],
   "source": [
    "print(\"The difference of\", num1, \"and\", num2, \"is:\", diff_result)"
   ]
  },
  {
   "cell_type": "code",
   "execution_count": 29,
   "id": "00a85b66-bf4b-43f8-8eb6-0876f8234f2c",
   "metadata": {},
   "outputs": [],
   "source": [
    "prod_result = num1 * num2"
   ]
  },
  {
   "cell_type": "code",
   "execution_count": 31,
   "id": "d75f23f0-2488-414c-9e20-50fae5e2b2c6",
   "metadata": {},
   "outputs": [
    {
     "name": "stdout",
     "output_type": "stream",
     "text": [
      "The product of 97.5 and 65.7 is: 6405.75\n"
     ]
    }
   ],
   "source": [
    "print(\"The product of\", num1, \"and\", num2, \"is:\", prod_result)"
   ]
  },
  {
   "cell_type": "code",
   "execution_count": 33,
   "id": "7baac389-e370-4eb9-8f03-b113cb205e86",
   "metadata": {},
   "outputs": [],
   "source": [
    "div_result = num1 / num2"
   ]
  },
  {
   "cell_type": "code",
   "execution_count": 35,
   "id": "665f6912-e5bb-428f-b3ad-680b31b3e2c7",
   "metadata": {},
   "outputs": [
    {
     "name": "stdout",
     "output_type": "stream",
     "text": [
      "The division of 97.5 and 65.7 is: 1.4840182648401825\n"
     ]
    }
   ],
   "source": [
    "print(\"The division of\", num1, \"and\", num2, \"is:\", div_result)"
   ]
  },
  {
   "cell_type": "code",
   "execution_count": 43,
   "id": "0cf01587-3c79-4efb-a4a0-4ddb78a431e4",
   "metadata": {},
   "outputs": [],
   "source": [
    "#Write a Python program that demonstrates various list manipulation operations, such as: Appending elements to a list, \n",
    "#Removing elements from a list, Accessing elements by index, Slicing a list to extract a sublist,Sorting the elements of a list in ascending order"
   ]
  },
  {
   "cell_type": "code",
   "execution_count": 45,
   "id": "d83a262d-942a-495e-b32e-89e8f5f8abc9",
   "metadata": {},
   "outputs": [],
   "source": [
    "my_list = [1, 2, 3, 4, 5]"
   ]
  },
  {
   "cell_type": "code",
   "execution_count": 47,
   "id": "d921598d-f02d-4375-abf3-55c74ddb74b8",
   "metadata": {},
   "outputs": [],
   "source": [
    "my_list.append(16)"
   ]
  },
  {
   "cell_type": "code",
   "execution_count": 49,
   "id": "092c38fc-9828-428e-832f-9dfb6568f845",
   "metadata": {},
   "outputs": [],
   "source": [
    "my_list.append(27)"
   ]
  },
  {
   "cell_type": "code",
   "execution_count": 53,
   "id": "8361d5e1-3178-49c6-9066-19e340b305eb",
   "metadata": {},
   "outputs": [],
   "source": [
    "my_list.append(38)"
   ]
  },
  {
   "cell_type": "code",
   "execution_count": 55,
   "id": "5c237fb4-c97d-4e0c-b5a2-7fafbe3da311",
   "metadata": {},
   "outputs": [],
   "source": [
    "my_list.remove(2)"
   ]
  },
  {
   "cell_type": "code",
   "execution_count": 57,
   "id": "61df6810-0b8d-4160-805a-0c95e8d387ce",
   "metadata": {},
   "outputs": [
    {
     "name": "stdout",
     "output_type": "stream",
     "text": [
      "element at index 3: 5\n"
     ]
    }
   ],
   "source": [
    "print(\"element at index 3:\", my_list[3])"
   ]
  },
  {
   "cell_type": "code",
   "execution_count": 59,
   "id": "fd195fbe-4909-4268-9925-7c24873efdf4",
   "metadata": {},
   "outputs": [
    {
     "name": "stdout",
     "output_type": "stream",
     "text": [
      "The element at index 5 is  27\n"
     ]
    }
   ],
   "source": [
    "print(\"The element at index 5 is \",my_list[5])"
   ]
  },
  {
   "cell_type": "code",
   "execution_count": 63,
   "id": "8993490c-9783-4b8a-85b0-46a82b55d839",
   "metadata": {},
   "outputs": [],
   "source": [
    "sub_list = my_list[1:3]"
   ]
  },
  {
   "cell_type": "code",
   "execution_count": 65,
   "id": "97b9042d-0334-4e4c-8592-540b1063c50d",
   "metadata": {},
   "outputs": [
    {
     "name": "stdout",
     "output_type": "stream",
     "text": [
      "Sub_list is [3, 4]\n"
     ]
    }
   ],
   "source": [
    "print(\"Sub_list is\", sub_list)"
   ]
  },
  {
   "cell_type": "code",
   "execution_count": 67,
   "id": "7a5cf25b-48df-427d-950b-95b18f277f58",
   "metadata": {},
   "outputs": [],
   "source": [
    "my_list.sort()"
   ]
  },
  {
   "cell_type": "code",
   "execution_count": 69,
   "id": "c99c597a-6274-4858-82d0-8ece9611023b",
   "metadata": {},
   "outputs": [
    {
     "name": "stdout",
     "output_type": "stream",
     "text": [
      "My sorted list is  [1, 3, 4, 5, 16, 27, 38, 38]\n"
     ]
    }
   ],
   "source": [
    "print(\"My sorted list is \", my_list)"
   ]
  },
  {
   "cell_type": "code",
   "execution_count": null,
   "id": "0e5fa58e-738e-4bcf-bd7d-985f28546488",
   "metadata": {},
   "outputs": [],
   "source": [
    "# Write a Python program that prompts the user to enter two tuples and performs the following operations: \n",
    "# Concatenate the two tuples and print the result. Check if a specific element exists in either tuple and print the result (True or False)."
   ]
  },
  {
   "cell_type": "code",
   "execution_count": 71,
   "id": "d0e8acb4-4fe8-459c-a174-2d2b710989d3",
   "metadata": {},
   "outputs": [
    {
     "name": "stdin",
     "output_type": "stream",
     "text": [
      "Enter the first tuple elements (separated by commas):  Six\n"
     ]
    }
   ],
   "source": [
    "tuple1 = tuple(input(\"Enter the first tuple elements (separated by commas): \").split(\",\"))"
   ]
  },
  {
   "cell_type": "code",
   "execution_count": 73,
   "id": "36b69991-4501-4055-a098-1b0b9fcdc7d1",
   "metadata": {},
   "outputs": [
    {
     "name": "stdin",
     "output_type": "stream",
     "text": [
      "Enter the second tuple elements (separated by commas):  75\n"
     ]
    }
   ],
   "source": [
    "tuple2 = tuple(input(\"Enter the second tuple elements (separated by commas): \").split(\",\"))"
   ]
  },
  {
   "cell_type": "code",
   "execution_count": 75,
   "id": "b378a4ba-1057-4c7c-8e65-7b7ba06fe53a",
   "metadata": {},
   "outputs": [],
   "source": [
    "concatenated_tuple = tuple1 + tuple2"
   ]
  },
  {
   "cell_type": "code",
   "execution_count": 91,
   "id": "46cefdc3-9cab-4713-9d47-dbd316f683d2",
   "metadata": {},
   "outputs": [
    {
     "name": "stdout",
     "output_type": "stream",
     "text": [
      "Concatenated tuple: ('Six', '75')\n"
     ]
    }
   ],
   "source": [
    "print(\"Concatenated tuple:\", concatenated_tuple)"
   ]
  },
  {
   "cell_type": "code",
   "execution_count": 99,
   "id": "09ffe4a9-2309-4bdf-bdfa-d3d23f4eb5f5",
   "metadata": {},
   "outputs": [
    {
     "name": "stdin",
     "output_type": "stream",
     "text": [
      "Enter a specific element to check for its existence:  Six\n"
     ]
    }
   ],
   "source": [
    "# Prompt the user to enter a specific element\n",
    "element = input(\"Enter a specific element to check for its existence: \")"
   ]
  },
  {
   "cell_type": "code",
   "execution_count": 101,
   "id": "393f80cb-344b-4686-9629-56492557045f",
   "metadata": {},
   "outputs": [],
   "source": [
    "element_exists = element in tuple1 or element in tuple2"
   ]
  },
  {
   "cell_type": "code",
   "execution_count": 103,
   "id": "a1f1117c-51aa-4b13-b1b9-3f6464454017",
   "metadata": {},
   "outputs": [
    {
     "name": "stdout",
     "output_type": "stream",
     "text": [
      "Element exists: True\n"
     ]
    }
   ],
   "source": [
    "print(\"Element exists:\", element_exists)"
   ]
  },
  {
   "cell_type": "code",
   "execution_count": null,
   "id": "6e7067b6-1863-45f7-922b-ff4df713c6d5",
   "metadata": {},
   "outputs": [],
   "source": [
    "#You are on a quest to collect various items in different locations. Your task is to create a dictionary to keep track \n",
    "#of the items you find in each location. Write a Python program that allows you to add items to the dictionary, remove\n",
    "#items, and check if a specific item exists in a location."
   ]
  },
  {
   "cell_type": "code",
   "execution_count": 3,
   "id": "15960ede-aebc-407b-a834-38a8f89d9568",
   "metadata": {},
   "outputs": [],
   "source": [
    "# Create an empty dictionary to represent the player's inventory\n",
    "inventory = {}"
   ]
  },
  {
   "cell_type": "code",
   "execution_count": 6,
   "id": "cde0fddc-9c65-434b-901d-de6f5348ce4d",
   "metadata": {},
   "outputs": [],
   "source": [
    "# Function to check if a specific item exists in any of the locations in the inventory\n",
    "def check_item_exists(item):\n",
    "    for location, items in inventory.items():\n",
    "        if item in items:\n",
    "            return True\n",
    "            return False"
   ]
  },
  {
   "cell_type": "code",
   "execution_count": null,
   "id": "3a8e61b0-cbe6-435b-922c-f2229e0d5bcc",
   "metadata": {},
   "outputs": [],
   "source": [
    "# Prompt the user to enter a location and an item found in that location"
   ]
  },
  {
   "cell_type": "code",
   "execution_count": 8,
   "id": "c188a793-1c12-4f95-83bf-8309b66e02fb",
   "metadata": {},
   "outputs": [],
   "source": [
    "def add_item():\n",
    "   location = input(\"Enter a location: \")\n",
    "   item = input(\"Enter an item found in that location: \")"
   ]
  },
  {
   "cell_type": "code",
   "execution_count": 10,
   "id": "5ce32a01-0be8-40e7-9380-3a0de1d50a37",
   "metadata": {},
   "outputs": [
    {
     "name": "stdin",
     "output_type": "stream",
     "text": [
      "Enter a location:  dawki\n"
     ]
    }
   ],
   "source": [
    "location = input(\"Enter a location: \")"
   ]
  },
  {
   "cell_type": "code",
   "execution_count": 113,
   "id": "7a84f742-b727-452a-b16b-11d286d7419d",
   "metadata": {},
   "outputs": [
    {
     "name": "stdin",
     "output_type": "stream",
     "text": [
      "Enter an item found in that location:  nut\n"
     ]
    }
   ],
   "source": [
    "item = input(\"Enter an item found in that location: \")"
   ]
  },
  {
   "cell_type": "code",
   "execution_count": null,
   "id": "1059e5c9-6f0c-4fe6-8aea-2402e65d1780",
   "metadata": {},
   "outputs": [],
   "source": [
    "# Add the item to the inventory dictionary with the location as the key and the item as the value"
   ]
  },
  {
   "cell_type": "code",
   "execution_count": 22,
   "id": "b45dc382-b137-4b1b-9838-d1549c24d927",
   "metadata": {},
   "outputs": [],
   "source": [
    "if location in inventory:\n",
    "   inventory[location].append(item)\n",
    "else:\n",
    "   inventory[location] = [item]"
   ]
  },
  {
   "cell_type": "code",
   "execution_count": 16,
   "id": "3a4bcf4f-9add-4067-a532-f862aa5dc224",
   "metadata": {},
   "outputs": [],
   "source": [
    "# Allow the user to remove an item from a specific location\n",
    "def remove_item():\n",
    "    location = input(\"Enter the location to remove an item from: \")"
   ]
  },
  {
   "cell_type": "code",
   "execution_count": 91,
   "id": "c7f273ae-03b1-4edc-b64f-fb83afd7672c",
   "metadata": {},
   "outputs": [
    {
     "name": "stdin",
     "output_type": "stream",
     "text": [
      "Enter the location to remove an item from:  Shillong\n"
     ]
    }
   ],
   "source": [
    "location = input(\"Enter the location to remove an item from: \")"
   ]
  },
  {
   "cell_type": "code",
   "execution_count": 93,
   "id": "089624b9-7b2a-4583-af0c-4568cc029bb0",
   "metadata": {},
   "outputs": [
    {
     "name": "stdin",
     "output_type": "stream",
     "text": [
      "Enter the item to remove:  Coal\n"
     ]
    }
   ],
   "source": [
    "# Check if the location exists in the inventory\n",
    "if location in inventory:\n",
    "          item = input(\"Enter the item to remove: \")"
   ]
  },
  {
   "cell_type": "code",
   "execution_count": 95,
   "id": "cd887336-470f-44ea-b60f-7226a50e2ed8",
   "metadata": {},
   "outputs": [
    {
     "name": "stdout",
     "output_type": "stream",
     "text": [
      "Item removed successfully!\n"
     ]
    }
   ],
   "source": [
    "# Check if the location exists in the inventory\n",
    "if location in inventory:\n",
    "    # Check if the item exists in the specified location\n",
    "    if item in inventory[location]:\n",
    "        inventory[location].remove(item)\n",
    "        print(\"Item removed successfully!\")\n",
    "    else:\n",
    "        print(\"Item not found in the specified location.\")\n",
    "else:\n",
    "    print(\"Location not found in the inventory.\")\n"
   ]
  },
  {
   "cell_type": "code",
   "execution_count": 1,
   "id": "b22b5b8e-3fd4-4336-9c37-698fc50e98ee",
   "metadata": {},
   "outputs": [],
   "source": [
    "# Display the current inventory\n",
    "def display_inventory():\n",
    "    print(\"Current Inventory:\")\n",
    "    for location, items in inventory.items():\n",
    "        print(location + \": \" + \", \".join(items))\n"
   ]
  },
  {
   "cell_type": "code",
   "execution_count": 127,
   "id": "c48c4589-e5ab-4950-9bb7-5dce5506b363",
   "metadata": {},
   "outputs": [
    {
     "name": "stdout",
     "output_type": "stream",
     "text": [
      "\n",
      "-- Inventory Management --\n",
      "1. Add an item to the inventory\n",
      "2. Remove an item from the inventory\n",
      "3. Check if an item exists in the inventory\n",
      "4. Display current inventory\n",
      "5. Quit\n"
     ]
    },
    {
     "name": "stdin",
     "output_type": "stream",
     "text": [
      "Enter your choice (1-5):  5\n"
     ]
    },
    {
     "name": "stdout",
     "output_type": "stream",
     "text": [
      "Goodbye!\n"
     ]
    }
   ],
   "source": [
    "while True:\n",
    "    print(\"\\n-- Inventory Management --\")\n",
    "    print(\"1. Add an item to the inventory\")\n",
    "    print(\"2. Remove an item from the inventory\")\n",
    "    print(\"3. Check if an item exists in the inventory\")\n",
    "    print(\"4. Display current inventory\")\n",
    "    print(\"5. Quit\")\n",
    "    \n",
    "    choice = input(\"Enter your choice (1-5): \")\n",
    "    \n",
    "    if choice == '1':\n",
    "        add_item()\n",
    "        display_inventory()\n",
    "    elif choice == '2':\n",
    "        remove_item()\n",
    "        display_inventory()\n",
    "    elif choice == '3':\n",
    "        item = input(\"Enter the item to check: \")\n",
    "        exists = check_item_exists(item)\n",
    "        if exists:\n",
    "            print(\"The item exists in the inventory.\")\n",
    "        else:\n",
    "            print(\"The item does not exist in the inventory.\")\n",
    "    elif choice == '4':\n",
    "        display_inventory()\n",
    "    elif choice == '5':\n",
    "        print(\"Goodbye!\")\n",
    "        break\n",
    "    else:\n",
    "        print(\"Invalid choice. Please try again.\")\n"
   ]
  },
  {
   "cell_type": "code",
   "execution_count": null,
   "id": "a245b8a3-f3a2-48b4-bea9-07ccbdbbc447",
   "metadata": {},
   "outputs": [],
   "source": [
    "#You are a collector of unique items. Your task is to create sets of items based on their categories and perform \n",
    "#operations on those sets. Write a Python program that allows you to create sets, combine sets, find common elements, \n",
    "#and check if one set is a proper subset of another set."
   ]
  },
  {
   "cell_type": "code",
   "execution_count": 12,
   "id": "5e68bc30-bf54-4124-96cf-c92ed77cc05d",
   "metadata": {},
   "outputs": [],
   "source": [
    "# Prompt the user to enter items and their categories\n",
    "def prompt_items():\n",
    "    items = {}\n",
    "    while True:\n",
    "        category = input(\"Enter the category of the item (or 'q' to quit): \")\n",
    "        if category == 'q':\n",
    "            break\n",
    "        item = input(\"Enter an item in that category: \")\n",
    "        if category in items:\n",
    "            items[category].add(item)\n",
    "        else:\n",
    "            items[category] = {item}\n",
    "    return items"
   ]
  },
  {
   "cell_type": "code",
   "execution_count": 14,
   "id": "72cc5088-b96f-483c-80e6-3c930a0494a1",
   "metadata": {},
   "outputs": [],
   "source": [
    "# Combine two sets into a single set\n",
    "def combine_sets(set1, set2):\n",
    "    return set1.union(set2)"
   ]
  },
  {
   "cell_type": "code",
   "execution_count": 16,
   "id": "4386f83f-d451-47e0-b1d7-d44e6bec2c47",
   "metadata": {},
   "outputs": [],
   "source": [
    "# Find and display the common elements between two sets\n",
    "def find_common_elements(set1, set2):\n",
    "    common_elements = set1.intersection(set2)\n",
    "    print(\"Common elements: \", common_elements)"
   ]
  },
  {
   "cell_type": "code",
   "execution_count": 1,
   "id": "e24b4f7b-039a-44c7-a0b3-709f2fbc4d1b",
   "metadata": {},
   "outputs": [],
   "source": [
    "# Check if one set is a proper subset of another set\n",
    "def check_proper_subset(set1, set2):\n",
    "    if set1.issubset(set2) and set1 != set2:\n",
    "        print(\"Set1 is a proper subset of set2.\")\n",
    "    else:\n",
    "        print(\"Set1 is not a proper subset of set2.\")"
   ]
  },
  {
   "cell_type": "code",
   "execution_count": 3,
   "id": "37adaa02-b34d-44dc-9ed4-aacc13aa2332",
   "metadata": {},
   "outputs": [
    {
     "name": "stdout",
     "output_type": "stream",
     "text": [
      "\n",
      "-- Set Collector --\n",
      "1. Enter items and their categories\n",
      "2. Combine two sets into a single set\n",
      "3. Find common elements between two sets\n",
      "4. Check if one set is a proper subset of another set\n",
      "5. Quit\n"
     ]
    },
    {
     "ename": "KeyboardInterrupt",
     "evalue": "Interrupted by user",
     "output_type": "error",
     "traceback": [
      "\u001b[1;31m---------------------------------------------------------------------------\u001b[0m",
      "\u001b[1;31mKeyboardInterrupt\u001b[0m                         Traceback (most recent call last)",
      "Cell \u001b[1;32mIn[3], line 9\u001b[0m\n\u001b[0;32m      7\u001b[0m \u001b[38;5;28mprint\u001b[39m(\u001b[38;5;124m\"\u001b[39m\u001b[38;5;124m4. Check if one set is a proper subset of another set\u001b[39m\u001b[38;5;124m\"\u001b[39m)\n\u001b[0;32m      8\u001b[0m \u001b[38;5;28mprint\u001b[39m(\u001b[38;5;124m\"\u001b[39m\u001b[38;5;124m5. Quit\u001b[39m\u001b[38;5;124m\"\u001b[39m)\n\u001b[1;32m----> 9\u001b[0m choice \u001b[38;5;241m=\u001b[39m \u001b[38;5;28minput\u001b[39m(\u001b[38;5;124m\"\u001b[39m\u001b[38;5;124mEnter your choice (1-5): \u001b[39m\u001b[38;5;124m\"\u001b[39m)\n\u001b[0;32m     10\u001b[0m \u001b[38;5;28;01mif\u001b[39;00m choice \u001b[38;5;241m==\u001b[39m \u001b[38;5;124m'\u001b[39m\u001b[38;5;124m1\u001b[39m\u001b[38;5;124m'\u001b[39m:\n\u001b[0;32m     11\u001b[0m     items \u001b[38;5;241m=\u001b[39m prompt_items()\n",
      "File \u001b[1;32md:\\Users\\Win\\anaconda3\\Lib\\site-packages\\ipykernel\\kernelbase.py:1262\u001b[0m, in \u001b[0;36mKernel.raw_input\u001b[1;34m(self, prompt)\u001b[0m\n\u001b[0;32m   1260\u001b[0m     msg \u001b[38;5;241m=\u001b[39m \u001b[38;5;124m\"\u001b[39m\u001b[38;5;124mraw_input was called, but this frontend does not support input requests.\u001b[39m\u001b[38;5;124m\"\u001b[39m\n\u001b[0;32m   1261\u001b[0m     \u001b[38;5;28;01mraise\u001b[39;00m StdinNotImplementedError(msg)\n\u001b[1;32m-> 1262\u001b[0m \u001b[38;5;28;01mreturn\u001b[39;00m \u001b[38;5;28mself\u001b[39m\u001b[38;5;241m.\u001b[39m_input_request(\n\u001b[0;32m   1263\u001b[0m     \u001b[38;5;28mstr\u001b[39m(prompt),\n\u001b[0;32m   1264\u001b[0m     \u001b[38;5;28mself\u001b[39m\u001b[38;5;241m.\u001b[39m_parent_ident[\u001b[38;5;124m\"\u001b[39m\u001b[38;5;124mshell\u001b[39m\u001b[38;5;124m\"\u001b[39m],\n\u001b[0;32m   1265\u001b[0m     \u001b[38;5;28mself\u001b[39m\u001b[38;5;241m.\u001b[39mget_parent(\u001b[38;5;124m\"\u001b[39m\u001b[38;5;124mshell\u001b[39m\u001b[38;5;124m\"\u001b[39m),\n\u001b[0;32m   1266\u001b[0m     password\u001b[38;5;241m=\u001b[39m\u001b[38;5;28;01mFalse\u001b[39;00m,\n\u001b[0;32m   1267\u001b[0m )\n",
      "File \u001b[1;32md:\\Users\\Win\\anaconda3\\Lib\\site-packages\\ipykernel\\kernelbase.py:1305\u001b[0m, in \u001b[0;36mKernel._input_request\u001b[1;34m(self, prompt, ident, parent, password)\u001b[0m\n\u001b[0;32m   1302\u001b[0m \u001b[38;5;28;01mexcept\u001b[39;00m \u001b[38;5;167;01mKeyboardInterrupt\u001b[39;00m:\n\u001b[0;32m   1303\u001b[0m     \u001b[38;5;66;03m# re-raise KeyboardInterrupt, to truncate traceback\u001b[39;00m\n\u001b[0;32m   1304\u001b[0m     msg \u001b[38;5;241m=\u001b[39m \u001b[38;5;124m\"\u001b[39m\u001b[38;5;124mInterrupted by user\u001b[39m\u001b[38;5;124m\"\u001b[39m\n\u001b[1;32m-> 1305\u001b[0m     \u001b[38;5;28;01mraise\u001b[39;00m \u001b[38;5;167;01mKeyboardInterrupt\u001b[39;00m(msg) \u001b[38;5;28;01mfrom\u001b[39;00m \u001b[38;5;28;01mNone\u001b[39;00m\n\u001b[0;32m   1306\u001b[0m \u001b[38;5;28;01mexcept\u001b[39;00m \u001b[38;5;167;01mException\u001b[39;00m:\n\u001b[0;32m   1307\u001b[0m     \u001b[38;5;28mself\u001b[39m\u001b[38;5;241m.\u001b[39mlog\u001b[38;5;241m.\u001b[39mwarning(\u001b[38;5;124m\"\u001b[39m\u001b[38;5;124mInvalid Message:\u001b[39m\u001b[38;5;124m\"\u001b[39m, exc_info\u001b[38;5;241m=\u001b[39m\u001b[38;5;28;01mTrue\u001b[39;00m)\n",
      "\u001b[1;31mKeyboardInterrupt\u001b[0m: Interrupted by user"
     ]
    }
   ],
   "source": [
    "## Main program loop\n",
    "while True:\n",
    "    print(\"\\n-- Set Collector --\")\n",
    "    print(\"1. Enter items and their categories\")\n",
    "    print(\"2. Combine two sets into a single set\")\n",
    "    print(\"3. Find common elements between two sets\")\n",
    "    print(\"4. Check if one set is a proper subset of another set\")\n",
    "    print(\"5. Quit\")\n",
    "    choice = input(\"Enter your choice (1-5): \")\n",
    "    if choice == '1':\n",
    "        items = prompt_items()\n",
    "        print(\"\\nSets Created:\")\n",
    "        for category, item_set in items.items():\n",
    "            print(category + \": \" + str(item_set))\n",
    "    elif choice == '2':\n",
    "        set1_category = input(\"Enter the category of the first set: \")\n",
    "        set2_category = input(\"Enter the category of the second set: \")\n",
    "# Check if the entered categories exist in the items dictionary\n",
    "        if set1_category in items and set2_category in items:\n",
    "            set1 = items[set1_category]\n",
    "            set2 = items[set2_category]\n",
    "            combined_set = combine_sets(set1, set2)\n",
    "            print(\"Combined set:\", combined_set)\n",
    "        else:\n",
    "            print(\"Invalid categories. Please try again.\")\n",
    "    elif choice == '3':\n",
    "        set1_category = input(\"Enter the category of the first set: \")\n",
    "        set2_category = input(\"Enter the category of the second set: \")\n",
    "# Check if the entered categories exist in the items dictionary\n",
    "        if set1_category in items and set2_category in items:\n",
    "            set1 = items[set1_category]\n",
    "            set2 = items[set2_category]\n",
    "            find_common_elements(set1, set2)\n",
    "        else:\n",
    "            print(\"Invalid categories. Please try again.\")\n",
    "    elif choice =='4':\n",
    "        set1_category = input(\"Enter the category of the first set: \")\n",
    "        set2_category = input(\"Enter the category of the second set: \")\n",
    "        \n",
    "        \n",
    "    "
   ]
  },
  {
   "cell_type": "code",
   "execution_count": null,
   "id": "02e2d02a-cb14-4490-aeb1-72a5bb8e78a2",
   "metadata": {},
   "outputs": [],
   "source": [
    "#You have encountered some challenges! Your task is to solve different number-related puzzles using control\n",
    "#flow statements. Write a Python program that prompts the user to enter a number and perform operations to determine the properties of the number."
   ]
  },
  {
   "cell_type": "code",
   "execution_count": 1,
   "id": "cb2a5ec6-c782-42c8-a43c-e2877f09b494",
   "metadata": {},
   "outputs": [
    {
     "name": "stdin",
     "output_type": "stream",
     "text": [
      "Enter a number:  75\n"
     ]
    }
   ],
   "source": [
    "# Prompt the user to enter a number\n",
    "number = float(input(\"Enter a number: \"))"
   ]
  },
  {
   "cell_type": "code",
   "execution_count": 3,
   "id": "f7646dd0-24c9-465b-9043-b61da4090760",
   "metadata": {},
   "outputs": [
    {
     "name": "stdout",
     "output_type": "stream",
     "text": [
      "The number is positive.\n"
     ]
    }
   ],
   "source": [
    "# Check if the number is positive, negative, or zero, and display the result\n",
    "if number > 0:\n",
    "    print(\"The number is positive.\")\n",
    "elif number < 0:\n",
    "    print(\"The number is negative.\")\n",
    "else:\n",
    "    print(\"The number is zero.\")"
   ]
  },
  {
   "cell_type": "code",
   "execution_count": 5,
   "id": "8d35620f-73ee-472c-b641-84bcd98be704",
   "metadata": {},
   "outputs": [
    {
     "name": "stdout",
     "output_type": "stream",
     "text": [
      "The number is odd.\n"
     ]
    }
   ],
   "source": [
    "# Check if the number is even or odd, and display the result\n",
    "if number % 2 == 0:\n",
    "    print(\"The number is even.\")\n",
    "else:\n",
    "    print(\"The number is odd.\")"
   ]
  },
  {
   "cell_type": "code",
   "execution_count": 7,
   "id": "bdc84dcc-26f3-4b02-8910-4e322e86a896",
   "metadata": {},
   "outputs": [
    {
     "name": "stdin",
     "output_type": "stream",
     "text": [
      "Enter a divisor:  5\n"
     ]
    }
   ],
   "source": [
    "# Prompt the user to enter a divisor\n",
    "divisor = float(input(\"Enter a divisor: \"))"
   ]
  },
  {
   "cell_type": "code",
   "execution_count": 17,
   "id": "b66fc678-53e1-491e-a908-d1d4eaffcba5",
   "metadata": {},
   "outputs": [
    {
     "name": "stdout",
     "output_type": "stream",
     "text": [
      "The number is a multiple of the divisor.\n"
     ]
    }
   ],
   "source": [
    "# Check if the number is a multiple of the divisor, and display the result\n",
    "if number % divisor == 0:\n",
    "    print(\"The number is a multiple of the divisor.\")\n",
    "else:\n",
    "    print(\"The number is not a multiple of the divisor.\")"
   ]
  },
  {
   "cell_type": "code",
   "execution_count": 11,
   "id": "2da90649-6df7-4214-966e-132431dc243d",
   "metadata": {},
   "outputs": [
    {
     "name": "stdout",
     "output_type": "stream",
     "text": [
      "Keep practicing! Challenge yourself with more number puzzles.\n"
     ]
    }
   ],
   "source": [
    "# Provide feedback to the user\n",
    "if number > 0 and number % 2 == 0:\n",
    "    print(\"Great job! You entered a positive even number.\")\n",
    "elif number < 0 and number % 2 != 0:\n",
    "    print(\"Well done! You entered a negative odd number.\")\n",
    "else:\n",
    "    print(\"Keep practicing! Challenge yourself with more number puzzles.\")"
   ]
  },
  {
   "cell_type": "code",
   "execution_count": null,
   "id": "89e4d07f-cd14-441d-97dd-d56d5cfd2132",
   "metadata": {},
   "outputs": [],
   "source": [
    "#You are on a quest to explore and gather information from various files in a mysterious land. Your task is to \n",
    "#create a Python program that simulates this quest and allows you to perform different file-handling operations."
   ]
  },
  {
   "cell_type": "code",
   "execution_count": null,
   "id": "3feb570a-97fc-4d80-a295-db066eb55e04",
   "metadata": {},
   "outputs": [
    {
     "name": "stdout",
     "output_type": "stream",
     "text": [
      "\n",
      "-- File Quest --\n",
      "File Quest Options:\n",
      "1. Read a file\n",
      "2. Write to a file\n",
      "3. Append to a file\n",
      "4. Delete a file\n",
      "5. Search within a file\n",
      "6. Quit\n"
     ]
    },
    {
     "name": "stdin",
     "output_type": "stream",
     "text": [
      "Enter your choice (1-6):  1\n"
     ]
    },
    {
     "name": "stdout",
     "output_type": "stream",
     "text": [
      "\n",
      "-- File Quest --\n",
      "File Quest Options:\n",
      "1. Read a file\n",
      "2. Write to a file\n",
      "3. Append to a file\n",
      "4. Delete a file\n",
      "5. Search within a file\n",
      "6. Quit\n"
     ]
    }
   ],
   "source": [
    "def display_options():\n",
    "    # Display available file options to the player\n",
    "    print(\"File Quest Options:\")\n",
    "    print(\"1. Read a file\")\n",
    "    print(\"2. Write to a file\")\n",
    "    print(\"3. Append to a file\")\n",
    "    print(\"4. Delete a file\")\n",
    "    print(\"5. Search within a file\")\n",
    "    print(\"6. Quit\")\n",
    "\n",
    "def read_file():\n",
    "    # Read the contents of a file and display them to the player\n",
    "    # Implement the necessary code here\n",
    "    pass\n",
    "\n",
    "def write_to_file():\n",
    "    # Write new information to a file\n",
    "    # Implement the necessary code here\n",
    "    pass\n",
    "\n",
    "def append_to_file():\n",
    "    # Append additional information to an existing file\n",
    "    # Implement the necessary code here\n",
    "    pass\n",
    "\n",
    "def delete_file():\n",
    "    # Delete a file from the quest\n",
    "    # Implement the necessary code here\n",
    "    pass\n",
    "\n",
    "def search_within_file():\n",
    "    # Search for specific content within a file and display the search results\n",
    "    # Implement the necessary code here\n",
    "    pass\n",
    "\n",
    "# Main program loop\n",
    "while True:\n",
    "    print(\"\\n-- File Quest --\")\n",
    "    display_options()\n",
    "    choice = input(\"Enter your choice (1-6): \")\n",
    "\n",
    "    if choice == '1':\n",
    "        read_file()\n",
    "        # Provide feedback and rewards for completing the task\n",
    "    elif choice == '2':\n",
    "        write_to_file()\n",
    "        # Provide feedback and rewards for completing the task\n",
    "    elif choice == '3':\n",
    "        append_to_file()\n",
    "        # Provide feedback and rewards for completing the task\n",
    "    elif choice == '4':\n",
    "        delete_file()\n",
    "        # Provide feedback and rewards for completing the task\n",
    "    elif choice == '5':\n",
    "        search_within_file()\n",
    "        # Provide feedback and rewards for completing the task\n",
    "    elif choice == '6':\n",
    "        print(\"Quitting the File Quest. Goodbye!\")\n",
    "        break\n",
    "    else:\n",
    "        print(\"Invalid choice. Please try again.\")\n"
   ]
  },
  {
   "cell_type": "code",
   "execution_count": null,
   "id": "d4738ef4-6fbf-4380-9db8-c206d420b287",
   "metadata": {},
   "outputs": [],
   "source": [
    "#You embark on an exciting array adventure where you'll encounter various challenges related to NumPy arrays and \n",
    "#their operations. Your task is to write a Python program that allows you to overcome these challenges and progress in your array adventure."
   ]
  },
  {
   "cell_type": "code",
   "execution_count": 1,
   "id": "47ee3564-a9bd-4e9b-8766-6e25197c7533",
   "metadata": {},
   "outputs": [
    {
     "name": "stdout",
     "output_type": "stream",
     "text": [
      "\n",
      "-- Array Adventure --\n",
      "Array Adventure Challenges:\n",
      "1. Create and display a NumPy array\n",
      "2. Perform basic operations on arrays\n",
      "3. Reshape an array\n",
      "4. Perform element-wise mathematical operations on arrays\n",
      "5. Check if two arrays are equal\n",
      "6. Quit\n"
     ]
    },
    {
     "name": "stdin",
     "output_type": "stream",
     "text": [
      "Enter your choice (1-6):  5\n"
     ]
    },
    {
     "name": "stdout",
     "output_type": "stream",
     "text": [
      "Array 1: [1 2 3]\n",
      "Array 2: [1 2 3]\n",
      "Array 3: [4 5 6]\n",
      "Array 1 == Array 2: True\n",
      "Array 1 == Array 3: False\n",
      "\n",
      "-- Array Adventure --\n",
      "Array Adventure Challenges:\n",
      "1. Create and display a NumPy array\n",
      "2. Perform basic operations on arrays\n",
      "3. Reshape an array\n",
      "4. Perform element-wise mathematical operations on arrays\n",
      "5. Check if two arrays are equal\n",
      "6. Quit\n"
     ]
    },
    {
     "name": "stdin",
     "output_type": "stream",
     "text": [
      "Enter your choice (1-6):  6\n"
     ]
    },
    {
     "name": "stdout",
     "output_type": "stream",
     "text": [
      "Quitting the Array Adventure. Goodbye!\n"
     ]
    }
   ],
   "source": [
    "import numpy as np\n",
    "\n",
    "def display_challenges():\n",
    "    # Display available array challenges to the player\n",
    "    print(\"Array Adventure Challenges:\")\n",
    "    print(\"1. Create and display a NumPy array\")\n",
    "    print(\"2. Perform basic operations on arrays\")\n",
    "    print(\"3. Reshape an array\")\n",
    "    print(\"4. Perform element-wise mathematical operations on arrays\")\n",
    "    print(\"5. Check if two arrays are equal\")\n",
    "    print(\"6. Quit\")\n",
    "\n",
    "def create_array():\n",
    "    # Create and display a NumPy array based on user input\n",
    "    elements = input(\"Enter elements of the array separated by space: \").split()\n",
    "    array = np.array(elements, dtype=float)\n",
    "    print(\"Created NumPy array:\")\n",
    "    print(array)\n",
    "\n",
    "def perform_operations():\n",
    "    # Perform basic operations on arrays\n",
    "    array = np.array([1, 2, 3, 4, 5])\n",
    "    print(\"Original array:\", array)\n",
    "    print(\"Array + 2:\", array + 2)\n",
    "    print(\"Array * 3:\", array * 3)\n",
    "    print(\"Array squared:\", array ** 2)\n",
    "\n",
    "def reshape_array():\n",
    "    # Reshape an array and display the reshaped version\n",
    "    array = np.arange(1, 13)\n",
    "    print(\"Original array:\")\n",
    "    print(array)\n",
    "    reshaped_array = array.reshape((3, 4))\n",
    "    print(\"Reshaped array (3x4):\")\n",
    "    print(reshaped_array)\n",
    "\n",
    "def perform_elementwise_operations():\n",
    "    # Perform element-wise mathematical operations on arrays\n",
    "    array1 = np.array([1, 2, 3])\n",
    "    array2 = np.array([4, 5, 6])\n",
    "    print(\"Array 1:\", array1)\n",
    "    print(\"Array 2:\", array2)\n",
    "    print(\"Array 1 + Array 2:\", array1 + array2)\n",
    "    print(\"Array 1 * Array 2:\", array1 * array2)\n",
    "\n",
    "def check_array_equality():\n",
    "    # Check if two arrays are equal or not\n",
    "    array1 = np.array([1, 2, 3])\n",
    "    array2 = np.array([1, 2, 3])\n",
    "    array3 = np.array([4, 5, 6])\n",
    "    print(\"Array 1:\", array1)\n",
    "    print(\"Array 2:\", array2)\n",
    "    print(\"Array 3:\", array3)\n",
    "    print(\"Array 1 == Array 2:\", np.array_equal(array1, array2))\n",
    "    print(\"Array 1 == Array 3:\", np.array_equal(array1, array3))\n",
    "\n",
    "# Main program loop\n",
    "while True:\n",
    "    print(\"\\n-- Array Adventure --\")\n",
    "    display_challenges()\n",
    "    choice = input(\"Enter your choice (1-6): \")\n",
    "    if choice == '1':\n",
    "        create_array()\n",
    "        # Provide feedback and rewards for completing the challenge\n",
    "    elif choice == '2':\n",
    "        perform_operations()\n",
    "        # Provide feedback and rewards for completing the challenge\n",
    "    elif choice == '3':\n",
    "        reshape_array()\n",
    "        # Provide feedback and rewards for completing the challenge\n",
    "    elif choice == '4':\n",
    "        perform_elementwise_operations()\n",
    "        # Provide feedback and rewards for completing the challenge\n",
    "    elif choice == '5':\n",
    "        check_array_equality()\n",
    "        # Provide feedback and rewards for completing the challenge\n",
    "    elif choice == '6':\n",
    "        print(\"Quitting the Array Adventure. Goodbye!\")\n",
    "        break\n",
    "    else:\n",
    "        print(\"Invalid choice. Please try again.\")\n"
   ]
  },
  {
   "cell_type": "code",
   "execution_count": null,
   "id": "306c6397-8afd-4346-a8e7-2b955aa51d8c",
   "metadata": {},
   "outputs": [],
   "source": []
  },
  {
   "cell_type": "code",
   "execution_count": null,
   "id": "0abe99ad-71d0-4189-8086-e7fba86812dc",
   "metadata": {},
   "outputs": [],
   "source": []
  },
  {
   "cell_type": "code",
   "execution_count": null,
   "id": "a636987b-cb2c-4697-9228-73ba8803fd7c",
   "metadata": {},
   "outputs": [],
   "source": []
  },
  {
   "cell_type": "code",
   "execution_count": null,
   "id": "89d3f446-18e4-4a14-903e-d7d093b03db4",
   "metadata": {},
   "outputs": [],
   "source": []
  },
  {
   "cell_type": "code",
   "execution_count": null,
   "id": "4518cc2b-df83-4c92-a9a9-c340aa1a922e",
   "metadata": {},
   "outputs": [],
   "source": []
  },
  {
   "cell_type": "code",
   "execution_count": null,
   "id": "48501432-44b8-458c-8f7f-690f9a3e6f38",
   "metadata": {},
   "outputs": [],
   "source": []
  },
  {
   "cell_type": "code",
   "execution_count": null,
   "id": "18707d09-9083-4fa0-bd41-c0db0c7cf67c",
   "metadata": {},
   "outputs": [],
   "source": []
  },
  {
   "cell_type": "code",
   "execution_count": null,
   "id": "4d71faad-b316-4c16-a4f1-ef46a9adcbc4",
   "metadata": {},
   "outputs": [],
   "source": []
  },
  {
   "cell_type": "code",
   "execution_count": null,
   "id": "9a8a1d3e-cc89-4bd6-be07-7971b9fadff7",
   "metadata": {},
   "outputs": [],
   "source": []
  },
  {
   "cell_type": "code",
   "execution_count": null,
   "id": "684517e7-0073-449d-9132-e6d6654ce827",
   "metadata": {},
   "outputs": [],
   "source": []
  },
  {
   "cell_type": "code",
   "execution_count": null,
   "id": "5ecd349b-cb2c-417e-9028-6f7b3a489f8e",
   "metadata": {},
   "outputs": [],
   "source": []
  },
  {
   "cell_type": "code",
   "execution_count": null,
   "id": "c7886dcc-bacd-4a5b-9016-a1429ce3a854",
   "metadata": {},
   "outputs": [],
   "source": []
  },
  {
   "cell_type": "code",
   "execution_count": null,
   "id": "0e9f650b-71e5-4449-ac07-b896879b9fac",
   "metadata": {},
   "outputs": [],
   "source": []
  }
 ],
 "metadata": {
  "kernelspec": {
   "display_name": "Python 3 (ipykernel)",
   "language": "python",
   "name": "python3"
  },
  "language_info": {
   "codemirror_mode": {
    "name": "ipython",
    "version": 3
   },
   "file_extension": ".py",
   "mimetype": "text/x-python",
   "name": "python",
   "nbconvert_exporter": "python",
   "pygments_lexer": "ipython3",
   "version": "3.11.7"
  }
 },
 "nbformat": 4,
 "nbformat_minor": 5
}
